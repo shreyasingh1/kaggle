{
 "cells": [
  {
   "cell_type": "code",
   "execution_count": 7,
   "metadata": {},
   "outputs": [],
   "source": [
    "# numpy and pandas for data manipulation\n",
    "import numpy as np\n",
    "import pandas as pd \n",
    "\n",
    "# sklearn preprocessing for dealing with categorical variables\n",
    "from sklearn.preprocessing import LabelEncoder\n",
    "\n",
    "# File system manangement\n",
    "import os\n",
    "\n",
    "# Suppress warnings \n",
    "import warnings\n",
    "warnings.filterwarnings('ignore')\n",
    "\n",
    "# matplotlib and seaborn for plotting\n",
    "import matplotlib.pyplot as plt\n",
    "import seaborn as sns"
   ]
  },
  {
   "cell_type": "code",
   "execution_count": null,
   "metadata": {},
   "outputs": [],
   "source": [
    "df_train=pd.read_csv(\"../kaggle/application_train.csv\")\n",
    "df_test=pd.read_csv(\"../kaggle/application_test.csv\")\n",
    "bureau=pd.read_csv(\"../kaggle/bureau.csv\")\n",
    "bur_bal=pd.read_csv(\"../kaggle/bureau_balance.csv\")\n",
    "credcard_bal=pd.read_csv(\"../kaggle/credit_card_balance.csv\")\n",
    "homecred=pd.read_csv(\"../kaggle/HomeCredit_columns_description.csv\")\n",
    "installments=pd.read_csv(\"../kaggle/installments_payments.csv\")\n",
    "pos_cash=pd.read_csv(\"../kaggle/POS_CASH_balance.csv\")\n",
    "sample_sub=pd.read_csv(\"../kaggle/sample_submission.csv\")"
   ]
  },
  {
   "cell_type": "code",
   "execution_count": null,
   "metadata": {},
   "outputs": [],
   "source": [
    "cheating = np.hstack([df_test['SK_ID_CURR'], np.zeros(48744)]).reshape((-1, 2), order='F')\n",
    "\n",
    "submission = pd.DataFrame({\n",
    "      \"SK_ID_CURR\": cheating[:,0],\n",
    "      \"TARGET\": cheating[:,1]\n",
    "  })\n",
    "\n",
    "submission.SK_ID_CURR = submission.SK_ID_CURR.astype(int)\n",
    "submission.TARGET = submission.TARGET.astype(int)\n",
    "\n",
    "submission.to_csv(\"cheating.csv\", index=False)"
   ]
  },
  {
   "cell_type": "code",
   "execution_count": null,
   "metadata": {},
   "outputs": [],
   "source": [
    "cheating.head()"
   ]
  },
  {
   "cell_type": "code",
   "execution_count": null,
   "metadata": {},
   "outputs": [],
   "source": []
  },
  {
   "cell_type": "code",
   "execution_count": null,
   "metadata": {},
   "outputs": [],
   "source": []
  }
 ],
 "metadata": {
  "kernelspec": {
   "display_name": "Python 3",
   "language": "python",
   "name": "python3"
  },
  "language_info": {
   "codemirror_mode": {
    "name": "ipython",
    "version": 2
   },
   "file_extension": ".py",
   "mimetype": "text/x-python",
   "name": "python",
   "nbconvert_exporter": "python",
   "pygments_lexer": "ipython2",
   "version": "2.7.15rc1"
  }
 },
 "nbformat": 4,
 "nbformat_minor": 2
}
